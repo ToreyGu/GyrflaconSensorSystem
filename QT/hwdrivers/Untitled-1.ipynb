{
 "cells": [
  {
   "cell_type": "code",
   "execution_count": 1,
   "metadata": {},
   "outputs": [],
   "source": [
    "from SerialCom import COMHost\n",
    "\n",
    "class JsonComHost(COMHost):\n",
    "    def __init__(self):\n",
    "        super().__init__(\"COMHost\")\n",
    "    \n",
    "    def getCOMBuffer(self):\n",
    "        \n",
    "        pass"
   ]
  },
  {
   "cell_type": "code",
   "execution_count": 6,
   "metadata": {},
   "outputs": [
    {
     "name": "stdout",
     "output_type": "stream",
     "text": [
      "COMHOST\n",
      "COM4 OPEN SUCCESS\n",
      "VAL2\n",
      "VAL3\n",
      "CHT\n",
      "VAL1\n",
      "VAL2\n",
      "VAL3\n",
      "CHT\n",
      "VAL1\n",
      "VAL2\n",
      "VAL3\n",
      "CHT\n",
      "VAL1\n",
      "VAL2\n",
      "VAL3\n",
      "CHT\n",
      "VAL1\n",
      "VAL2\n",
      "VAL3\n",
      "CHT\n",
      "VAL1\n",
      "VAL2\n",
      "VAL3\n",
      "CHT\n",
      "VAL1\n",
      "VAL2\n",
      "VAL3\n",
      "CHT\n"
     ]
    },
    {
     "ename": "KeyboardInterrupt",
     "evalue": "",
     "output_type": "error",
     "traceback": [
      "\u001b[1;31m---------------------------------------------------------------------------\u001b[0m",
      "\u001b[1;31mKeyboardInterrupt\u001b[0m                         Traceback (most recent call last)",
      "Cell \u001b[1;32mIn [6], line 11\u001b[0m\n\u001b[0;32m      9\u001b[0m ser\u001b[38;5;241m.\u001b[39malignCOMBuffer()\n\u001b[0;32m     10\u001b[0m \u001b[38;5;28;01mwhile\u001b[39;00m \u001b[38;5;28;01mTrue\u001b[39;00m:\n\u001b[1;32m---> 11\u001b[0m     \u001b[43mser\u001b[49m\u001b[38;5;241;43m.\u001b[39;49m\u001b[43mgetCOMBuffer\u001b[49m\u001b[43m(\u001b[49m\u001b[43m)\u001b[49m\n\u001b[0;32m     12\u001b[0m     \u001b[38;5;28mprint\u001b[39m(ser\u001b[38;5;241m.\u001b[39m_SerialBufferData[\u001b[38;5;124m'\u001b[39m\u001b[38;5;124mcmd\u001b[39m\u001b[38;5;124m'\u001b[39m])\n",
      "File \u001b[1;32mf:\\SensorSDK\\Gyrflacon\\QT\\hwdrivers\\SerialCom.py:111\u001b[0m, in \u001b[0;36mCOMHost.getCOMBuffer\u001b[1;34m(self)\u001b[0m\n\u001b[0;32m    108\u001b[0m \u001b[38;5;66;03m# Filte data based on communication protocols and available Buffer Flag\u001b[39;00m\n\u001b[0;32m    109\u001b[0m \u001b[38;5;66;03m#process program , load every byte to buffer until '\\r' '\\n' apperad\u001b[39;00m\n\u001b[0;32m    110\u001b[0m \u001b[38;5;28;01mwhile\u001b[39;00m \u001b[38;5;28;01mTrue\u001b[39;00m:\n\u001b[1;32m--> 111\u001b[0m     com_input \u001b[38;5;241m=\u001b[39m \u001b[38;5;28;43mself\u001b[39;49m\u001b[38;5;241;43m.\u001b[39;49m\u001b[43m_Serial\u001b[49m\u001b[38;5;241;43m.\u001b[39;49m\u001b[43mread\u001b[49m\u001b[43m(\u001b[49m\u001b[43m)\u001b[49m\n\u001b[0;32m    112\u001b[0m     \u001b[38;5;28;01mif\u001b[39;00m com_input \u001b[38;5;241m!=\u001b[39m \u001b[38;5;124mb\u001b[39m\u001b[38;5;124m'\u001b[39m\u001b[38;5;130;01m\\r\u001b[39;00m\u001b[38;5;124m'\u001b[39m :   \n\u001b[0;32m    113\u001b[0m         buffer \u001b[38;5;241m=\u001b[39m buffer \u001b[38;5;241m+\u001b[39m \u001b[38;5;28mstr\u001b[39m(com_input, encoding\u001b[38;5;241m=\u001b[39m\u001b[38;5;124m'\u001b[39m\u001b[38;5;124mutf-8\u001b[39m\u001b[38;5;124m'\u001b[39m)\n",
      "File \u001b[1;32mc:\\Users\\qwer1\\AppData\\Local\\Programs\\Python\\Python38\\lib\\site-packages\\serial\\serialwin32.py:288\u001b[0m, in \u001b[0;36mSerial.read\u001b[1;34m(self, size)\u001b[0m\n\u001b[0;32m    286\u001b[0m \u001b[38;5;28;01mif\u001b[39;00m \u001b[38;5;129;01mnot\u001b[39;00m read_ok \u001b[38;5;129;01mand\u001b[39;00m win32\u001b[38;5;241m.\u001b[39mGetLastError() \u001b[38;5;129;01mnot\u001b[39;00m \u001b[38;5;129;01min\u001b[39;00m (win32\u001b[38;5;241m.\u001b[39mERROR_SUCCESS, win32\u001b[38;5;241m.\u001b[39mERROR_IO_PENDING):\n\u001b[0;32m    287\u001b[0m     \u001b[38;5;28;01mraise\u001b[39;00m SerialException(\u001b[38;5;124m\"\u001b[39m\u001b[38;5;124mReadFile failed (\u001b[39m\u001b[38;5;132;01m{!r}\u001b[39;00m\u001b[38;5;124m)\u001b[39m\u001b[38;5;124m\"\u001b[39m\u001b[38;5;241m.\u001b[39mformat(ctypes\u001b[38;5;241m.\u001b[39mWinError()))\n\u001b[1;32m--> 288\u001b[0m result_ok \u001b[38;5;241m=\u001b[39m \u001b[43mwin32\u001b[49m\u001b[38;5;241;43m.\u001b[39;49m\u001b[43mGetOverlappedResult\u001b[49m\u001b[43m(\u001b[49m\n\u001b[0;32m    289\u001b[0m \u001b[43m    \u001b[49m\u001b[38;5;28;43mself\u001b[39;49m\u001b[38;5;241;43m.\u001b[39;49m\u001b[43m_port_handle\u001b[49m\u001b[43m,\u001b[49m\n\u001b[0;32m    290\u001b[0m \u001b[43m    \u001b[49m\u001b[43mctypes\u001b[49m\u001b[38;5;241;43m.\u001b[39;49m\u001b[43mbyref\u001b[49m\u001b[43m(\u001b[49m\u001b[38;5;28;43mself\u001b[39;49m\u001b[38;5;241;43m.\u001b[39;49m\u001b[43m_overlapped_read\u001b[49m\u001b[43m)\u001b[49m\u001b[43m,\u001b[49m\n\u001b[0;32m    291\u001b[0m \u001b[43m    \u001b[49m\u001b[43mctypes\u001b[49m\u001b[38;5;241;43m.\u001b[39;49m\u001b[43mbyref\u001b[49m\u001b[43m(\u001b[49m\u001b[43mrc\u001b[49m\u001b[43m)\u001b[49m\u001b[43m,\u001b[49m\n\u001b[0;32m    292\u001b[0m \u001b[43m    \u001b[49m\u001b[38;5;28;43;01mTrue\u001b[39;49;00m\u001b[43m)\u001b[49m\n\u001b[0;32m    293\u001b[0m \u001b[38;5;28;01mif\u001b[39;00m \u001b[38;5;129;01mnot\u001b[39;00m result_ok:\n\u001b[0;32m    294\u001b[0m     \u001b[38;5;28;01mif\u001b[39;00m win32\u001b[38;5;241m.\u001b[39mGetLastError() \u001b[38;5;241m!=\u001b[39m win32\u001b[38;5;241m.\u001b[39mERROR_OPERATION_ABORTED:\n",
      "\u001b[1;31mKeyboardInterrupt\u001b[0m: "
     ]
    }
   ],
   "source": [
    "import serial\n",
    "import json\n",
    "\n",
    "\n",
    "# 打开 COM17，将波特率配置为115200, 读超时时间为1秒\n",
    "ser = COMHost()\n",
    "ser.openCOMPortManual(\"COM4\",9600)\n",
    "\n",
    "ser.alignCOMBuffer()\n",
    "while True:\n",
    "    ser.getCOMBuffer()\n",
    "    print(ser._SerialBufferData['cmd'])"
   ]
  },
  {
   "cell_type": "code",
   "execution_count": 11,
   "metadata": {},
   "outputs": [
    {
     "name": "stdout",
     "output_type": "stream",
     "text": [
      "[['4'], ['21'], ['8']]\n",
      "['COM4', 'COM21', 'COM8']\n",
      "['USB-SERIAL CH340 (COM4)', 'JLink CDC UART Port (COM21)', '蓝牙链接上的标准串行 (COM8)']\n"
     ]
    }
   ],
   "source": [
    "ser.getCOMIofo()\n",
    "print(ser.SerialID)\n",
    "print(ser.SerialDevices)\n",
    "print(ser.SerialDescription)"
   ]
  },
  {
   "cell_type": "code",
   "execution_count": 12,
   "metadata": {},
   "outputs": [
    {
     "ename": "SystemExit",
     "evalue": "0",
     "output_type": "error",
     "traceback": [
      "An exception has occurred, use %tb to see the full traceback.\n",
      "\u001b[1;31mSystemExit\u001b[0m\u001b[1;31m:\u001b[0m 0\n"
     ]
    },
    {
     "name": "stderr",
     "output_type": "stream",
     "text": [
      "c:\\Users\\qwer1\\AppData\\Local\\Programs\\Python\\Python38\\lib\\site-packages\\IPython\\core\\interactiveshell.py:3386: UserWarning: To exit: use 'exit', 'quit', or Ctrl-D.\n",
      "  warn(\"To exit: use 'exit', 'quit', or Ctrl-D.\", stacklevel=1)\n"
     ]
    }
   ],
   "source": [
    "import sys\n",
    "from PyQt5.QtWidgets import QApplication, QWidget, QLCDNumber, QVBoxLayout\n",
    " \n",
    " \n",
    "class Demo(QWidget):\n",
    "    def __init__(self):\n",
    "        super(Demo, self).__init__()\n",
    "        self.resize(600, 600)\n",
    " \n",
    "        self.lcd_1 = QLCDNumber(self)                                   # 1\n",
    "        self.lcd_1.setDigitCount(10)\n",
    "        self.lcd_1.display(1234567890)\n",
    " \n",
    "        self.lcd_2 = QLCDNumber(self)                                   # 2\n",
    "        self.lcd_2.setSegmentStyle(QLCDNumber.Flat)\n",
    "        # self.lcd_2.setSmallDecimalPoint(True)\n",
    "        self.lcd_2.setDigitCount(10)\n",
    "        self.lcd_2.display(0.123456789)\n",
    " \n",
    "        self.lcd_3 = QLCDNumber(self)                                   # 3\n",
    "        self.lcd_3.setSegmentStyle(QLCDNumber.Filled)\n",
    "        self.lcd_3.display('HELLO')\n",
    " \n",
    "        self.lcd_4 = QLCDNumber(self)                                   # 4\n",
    "        self.lcd_4.setSegmentStyle(QLCDNumber.Outline)\n",
    "        self.lcd_4.setMode(QLCDNumber.Hex)\n",
    "        self.lcd_4.setDigitCount(6)\n",
    "        self.lcd_4.display(666)\n",
    " \n",
    "        self.v_layout = QVBoxLayout()\n",
    "        self.v_layout.addWidget(self.lcd_1)\n",
    "        self.v_layout.addWidget(self.lcd_2)\n",
    "        self.v_layout.addWidget(self.lcd_3)\n",
    "        self.v_layout.addWidget(self.lcd_4)\n",
    " \n",
    "        self.setLayout(self.v_layout)\n",
    " \n",
    " \n",
    "if __name__ == '__main__':\n",
    "    app = QApplication(sys.argv)\n",
    "    demo = Demo()\n",
    "    demo.show()\n",
    "    sys.exit(app.exec_())"
   ]
  }
 ],
 "metadata": {
  "kernelspec": {
   "display_name": "Python 3",
   "language": "python",
   "name": "python3"
  },
  "language_info": {
   "codemirror_mode": {
    "name": "ipython",
    "version": 3
   },
   "file_extension": ".py",
   "mimetype": "text/x-python",
   "name": "python",
   "nbconvert_exporter": "python",
   "pygments_lexer": "ipython3",
   "version": "3.8.10"
  }
 },
 "nbformat": 4,
 "nbformat_minor": 2
}
